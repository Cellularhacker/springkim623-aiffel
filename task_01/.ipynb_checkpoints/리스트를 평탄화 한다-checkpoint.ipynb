{
 "cells": [
  {
   "cell_type": "code",
   "execution_count": 1,
   "id": "f6b4c7ee",
   "metadata": {},
   "outputs": [
    {
     "name": "stdout",
     "output_type": "stream",
     "text": [
      "[1, 2]\n",
      "3\n",
      "[[4, 5, 6], 7]\n",
      "8\n",
      "9\n"
     ]
    }
   ],
   "source": [
    "overlap = [[1, 2], 3, [[4, 5, 6], 7], 8, 9]\n",
    "\n",
    "for element in overlap:\n",
    "    print(element)"
   ]
  },
  {
   "cell_type": "code",
   "execution_count": 2,
   "id": "4276c0cd",
   "metadata": {},
   "outputs": [],
   "source": [
    "a = [[1, 2], 3, [[4, 5, 6], 7], 8, 9]\n",
    "\n",
    "def flatten(data):\n",
    "    output = []\n",
    "    for i in data:\n",
    "        if type(i) == list:\n",
    "            output += flatten(i)\n",
    "        else:\n",
    "            output.append(i)\n",
    "        \n",
    "    return output"
   ]
  },
  {
   "cell_type": "code",
   "execution_count": 3,
   "id": "671d8785",
   "metadata": {},
   "outputs": [
    {
     "data": {
      "text/plain": [
       "[1, 2, 3, 4, 5, 6, 7, 8, 9]"
      ]
     },
     "execution_count": 3,
     "metadata": {},
     "output_type": "execute_result"
    }
   ],
   "source": [
    "flatten(a)"
   ]
  },
  {
   "cell_type": "code",
   "execution_count": null,
   "id": "057d89a4",
   "metadata": {},
   "outputs": [],
   "source": []
  }
 ],
 "metadata": {
  "kernelspec": {
   "display_name": "Python 3 (ipykernel)",
   "language": "python",
   "name": "python3"
  },
  "language_info": {
   "codemirror_mode": {
    "name": "ipython",
    "version": 3
   },
   "file_extension": ".py",
   "mimetype": "text/x-python",
   "name": "python",
   "nbconvert_exporter": "python",
   "pygments_lexer": "ipython3",
   "version": "3.10.9"
  }
 },
 "nbformat": 4,
 "nbformat_minor": 5
}
