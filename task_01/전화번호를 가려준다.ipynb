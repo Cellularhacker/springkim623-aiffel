{
 "cells": [
  {
   "cell_type": "code",
   "execution_count": 1,
   "id": "7f4ed495",
   "metadata": {},
   "outputs": [],
   "source": [
    "numbers = '010-12345-23456'\n",
    "\n",
    "def change_num(numbers):\n",
    "    answer = numbers.replace(numbers[-5:], '#####')\n",
    "\n",
    "    return answer"
   ]
  },
  {
   "cell_type": "code",
   "execution_count": 2,
   "id": "4b03b9c4",
   "metadata": {},
   "outputs": [
    {
     "data": {
      "text/plain": [
       "'010-13579-#####'"
      ]
     },
     "execution_count": 2,
     "metadata": {},
     "output_type": "execute_result"
    }
   ],
   "source": [
    "change_num('010-13579-24688')"
   ]
  },
  {
   "cell_type": "code",
   "execution_count": null,
   "id": "35e7747a",
   "metadata": {},
   "outputs": [],
   "source": []
  }
 ],
 "metadata": {
  "kernelspec": {
   "display_name": "Python 3 (ipykernel)",
   "language": "python",
   "name": "python3"
  },
  "language_info": {
   "codemirror_mode": {
    "name": "ipython",
    "version": 3
   },
   "file_extension": ".py",
   "mimetype": "text/x-python",
   "name": "python",
   "nbconvert_exporter": "python",
   "pygments_lexer": "ipython3",
   "version": "3.10.9"
  }
 },
 "nbformat": 4,
 "nbformat_minor": 5
}
